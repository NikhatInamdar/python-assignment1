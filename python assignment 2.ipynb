{
 "cells": [
  {
   "cell_type": "markdown",
   "id": "fca88191",
   "metadata": {},
   "source": [
    "# Q1.Solution"
   ]
  },
  {
   "cell_type": "code",
   "execution_count": 3,
   "id": "10972b28",
   "metadata": {},
   "outputs": [
    {
     "name": "stdout",
     "output_type": "stream",
     "text": [
      "* \n",
      "* * \n",
      "* * * \n",
      "* * * * \n",
      "* * * * * \n",
      "* * * * \n",
      "* * * \n",
      "* * \n",
      "* \n"
     ]
    }
   ],
   "source": [
    "for i in range(1,6):\n",
    "    for j in range(1,i+1):\n",
    "        print(\"*\",end=\" \")\n",
    "    print(\"\")\n",
    "for i in range(1,5):\n",
    "    for j in range(1,6-i):\n",
    "        print(\"*\",end=\" \")\n",
    "    print(\"\")\n",
    "    "
   ]
  },
  {
   "cell_type": "markdown",
   "id": "8dec8d06",
   "metadata": {},
   "source": [
    "# Q2.Solution"
   ]
  },
  {
   "cell_type": "code",
   "execution_count": 9,
   "id": "c436881f",
   "metadata": {},
   "outputs": [
    {
     "name": "stdout",
     "output_type": "stream",
     "text": [
      "Enter a String:- NIKHAT\n",
      "Reverse String is:-    TAHKIN\n"
     ]
    }
   ],
   "source": [
    "string = input(\"Enter a String:- \")\n",
    "reverse = \"\"\n",
    "\n",
    "for i in string:\n",
    "    reverse = i + reverse\n",
    "print(\"Reverse String is:-   \" , reverse)"
   ]
  },
  {
   "cell_type": "code",
   "execution_count": null,
   "id": "39c496f0",
   "metadata": {},
   "outputs": [],
   "source": []
  }
 ],
 "metadata": {
  "kernelspec": {
   "display_name": "Python 3",
   "language": "python",
   "name": "python3"
  },
  "language_info": {
   "codemirror_mode": {
    "name": "ipython",
    "version": 3
   },
   "file_extension": ".py",
   "mimetype": "text/x-python",
   "name": "python",
   "nbconvert_exporter": "python",
   "pygments_lexer": "ipython3",
   "version": "3.8.8"
  }
 },
 "nbformat": 4,
 "nbformat_minor": 5
}
